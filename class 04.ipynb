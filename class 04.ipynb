{
 "cells": [
  {
   "cell_type": "code",
   "execution_count": 24,
   "id": "5d725047-a902-4b51-bb5d-0d0c77469918",
   "metadata": {},
   "outputs": [
    {
     "data": {
      "text/plain": [
       "'Md. Ariful Haque'"
      ]
     },
     "execution_count": 24,
     "metadata": {},
     "output_type": "execute_result"
    }
   ],
   "source": [
    "name='Md. Ariful Haque'\n",
    "name\n"
   ]
  },
  {
   "cell_type": "code",
   "execution_count": 25,
   "id": "23787c82-c616-4415-bc34-875d0c99f938",
   "metadata": {},
   "outputs": [
    {
     "name": "stdout",
     "output_type": "stream",
     "text": [
      "Md. Ariful Haque\n"
     ]
    }
   ],
   "source": [
    "print(name)\n"
   ]
  },
  {
   "cell_type": "code",
   "execution_count": 26,
   "id": "46acb979-4939-47dd-9048-ea734b750084",
   "metadata": {},
   "outputs": [
    {
     "name": "stdout",
     "output_type": "stream",
     "text": [
      "<class 'str'>\n"
     ]
    }
   ],
   "source": [
    "print(type(name))\n"
   ]
  },
  {
   "cell_type": "code",
   "execution_count": 27,
   "id": "772fa0e9-0a5d-473c-a5ed-b86daedc9829",
   "metadata": {},
   "outputs": [
    {
     "data": {
      "text/plain": [
       "16"
      ]
     },
     "execution_count": 27,
     "metadata": {},
     "output_type": "execute_result"
    }
   ],
   "source": [
    "len(name)\n"
   ]
  },
  {
   "cell_type": "code",
   "execution_count": 28,
   "id": "ac30c83d-fc3e-4096-b4ce-c8d6e001172e",
   "metadata": {},
   "outputs": [
    {
     "data": {
      "text/plain": [
       "'MD. ARIFUL HAQUE'"
      ]
     },
     "execution_count": 28,
     "metadata": {},
     "output_type": "execute_result"
    }
   ],
   "source": [
    "name.upper()\n"
   ]
  },
  {
   "cell_type": "code",
   "execution_count": 29,
   "id": "3bd5f312-c12c-4d7b-88a3-03eadb1fc5f0",
   "metadata": {},
   "outputs": [
    {
     "data": {
      "text/plain": [
       "'md. ariful haque'"
      ]
     },
     "execution_count": 29,
     "metadata": {},
     "output_type": "execute_result"
    }
   ],
   "source": [
    "name.lower()"
   ]
  },
  {
   "cell_type": "code",
   "execution_count": 30,
   "id": "f489d1b6-bf70-4dee-a94f-8d5e6ad920c0",
   "metadata": {},
   "outputs": [
    {
     "name": "stdout",
     "output_type": "stream",
     "text": [
      "Help on built-in function print in module builtins:\n",
      "\n",
      "print(...)\n",
      "    print(value, ..., sep=' ', end='\\n', file=sys.stdout, flush=False)\n",
      "    \n",
      "    Prints the values to a stream, or to sys.stdout by default.\n",
      "    Optional keyword arguments:\n",
      "    file:  a file-like object (stream); defaults to the current sys.stdout.\n",
      "    sep:   string inserted between values, default a space.\n",
      "    end:   string appended after the last value, default a newline.\n",
      "    flush: whether to forcibly flush the stream.\n",
      "\n"
     ]
    }
   ],
   "source": [
    "help(print)"
   ]
  },
  {
   "cell_type": "code",
   "execution_count": 34,
   "id": "82ea4298-9933-4e7d-ac6d-96bdc8926abf",
   "metadata": {},
   "outputs": [
    {
     "ename": "NameError",
     "evalue": "name 'int_Num' is not defined",
     "output_type": "error",
     "traceback": [
      "\u001b[1;31m---------------------------------------------------------------------------\u001b[0m",
      "\u001b[1;31mNameError\u001b[0m                                 Traceback (most recent call last)",
      "\u001b[1;32m<ipython-input-34-c44be8cdbf66>\u001b[0m in \u001b[0;36m<module>\u001b[1;34m\u001b[0m\n\u001b[0;32m      2\u001b[0m \u001b[0mflt_num\u001b[0m\u001b[1;33m=\u001b[0m\u001b[1;36m6.5\u001b[0m\u001b[1;33m\u001b[0m\u001b[1;33m\u001b[0m\u001b[0m\n\u001b[0;32m      3\u001b[0m \u001b[0mdoub_num\u001b[0m\u001b[1;33m=\u001b[0m\u001b[1;36m3.14j\u001b[0m\u001b[1;33m\u001b[0m\u001b[1;33m\u001b[0m\u001b[0m\n\u001b[1;32m----> 4\u001b[1;33m \u001b[0mprint\u001b[0m\u001b[1;33m(\u001b[0m\u001b[0mint_Num\u001b[0m\u001b[1;33m)\u001b[0m\u001b[1;33m\u001b[0m\u001b[1;33m\u001b[0m\u001b[0m\n\u001b[0m",
      "\u001b[1;31mNameError\u001b[0m: name 'int_Num' is not defined"
     ]
    }
   ],
   "source": []
  },
  {
   "cell_type": "code",
   "execution_count": 42,
   "id": "cbb7d875-d376-416d-8c02-f56163d4e346",
   "metadata": {},
   "outputs": [],
   "source": [
    "int_num=5\n",
    "flt_num=6.5\n",
    "doub_num=3.14j\n",
    "#print(int_Num)"
   ]
  },
  {
   "cell_type": "code",
   "execution_count": 36,
   "id": "11546f1c-eecf-472d-8063-86d621f5b1ff",
   "metadata": {},
   "outputs": [
    {
     "name": "stdout",
     "output_type": "stream",
     "text": [
      "Requirement already satisfied: numpy in c:\\users\\hp\\anaconda3\\envs\\dl\\lib\\site-packages (1.21.1)\n"
     ]
    }
   ],
   "source": [
    "!pip install numpy"
   ]
  },
  {
   "cell_type": "code",
   "execution_count": 43,
   "id": "92686be1-7bda-4d9a-b439-2c755964b158",
   "metadata": {},
   "outputs": [
    {
     "name": "stdout",
     "output_type": "stream",
     "text": [
      "5\n",
      "<class 'int'>\n",
      "6.5\n",
      "<class 'float'>\n",
      "3.14j\n",
      "<class 'complex'>\n"
     ]
    }
   ],
   "source": [
    "print(int_num)\n",
    "print(type(int_num))\n",
    "print(flt_num)\n",
    "print(type(flt_num))\n",
    "print(doub_num)\n",
    "print(type(doub_num))"
   ]
  },
  {
   "cell_type": "code",
   "execution_count": 48,
   "id": "887bdeb6-5243-4754-b2e9-edfd23b27de9",
   "metadata": {},
   "outputs": [
    {
     "name": "stdout",
     "output_type": "stream",
     "text": [
      "0.0\n",
      "3.14\n",
      "2.0\n",
      "4.0\n"
     ]
    }
   ],
   "source": [
    "import numpy as np\n",
    "num= 3.14j   #(2+4j)\n",
    "print(num.real)\n",
    "print(num.imag)\n",
    "num1= (2+4j)\n",
    "print(num1.real)\n",
    "print(num1.imag)"
   ]
  },
  {
   "cell_type": "code",
   "execution_count": 49,
   "id": "8ff6a799-2d43-4917-bc0b-95ed55d771e4",
   "metadata": {},
   "outputs": [
    {
     "name": "stdout",
     "output_type": "stream",
     "text": [
      "Help on class list in module builtins:\n",
      "\n",
      "class list(object)\n",
      " |  list(iterable=(), /)\n",
      " |  \n",
      " |  Built-in mutable sequence.\n",
      " |  \n",
      " |  If no argument is given, the constructor creates a new empty list.\n",
      " |  The argument must be an iterable if specified.\n",
      " |  \n",
      " |  Methods defined here:\n",
      " |  \n",
      " |  __add__(self, value, /)\n",
      " |      Return self+value.\n",
      " |  \n",
      " |  __contains__(self, key, /)\n",
      " |      Return key in self.\n",
      " |  \n",
      " |  __delitem__(self, key, /)\n",
      " |      Delete self[key].\n",
      " |  \n",
      " |  __eq__(self, value, /)\n",
      " |      Return self==value.\n",
      " |  \n",
      " |  __ge__(self, value, /)\n",
      " |      Return self>=value.\n",
      " |  \n",
      " |  __getattribute__(self, name, /)\n",
      " |      Return getattr(self, name).\n",
      " |  \n",
      " |  __getitem__(...)\n",
      " |      x.__getitem__(y) <==> x[y]\n",
      " |  \n",
      " |  __gt__(self, value, /)\n",
      " |      Return self>value.\n",
      " |  \n",
      " |  __iadd__(self, value, /)\n",
      " |      Implement self+=value.\n",
      " |  \n",
      " |  __imul__(self, value, /)\n",
      " |      Implement self*=value.\n",
      " |  \n",
      " |  __init__(self, /, *args, **kwargs)\n",
      " |      Initialize self.  See help(type(self)) for accurate signature.\n",
      " |  \n",
      " |  __iter__(self, /)\n",
      " |      Implement iter(self).\n",
      " |  \n",
      " |  __le__(self, value, /)\n",
      " |      Return self<=value.\n",
      " |  \n",
      " |  __len__(self, /)\n",
      " |      Return len(self).\n",
      " |  \n",
      " |  __lt__(self, value, /)\n",
      " |      Return self<value.\n",
      " |  \n",
      " |  __mul__(self, value, /)\n",
      " |      Return self*value.\n",
      " |  \n",
      " |  __ne__(self, value, /)\n",
      " |      Return self!=value.\n",
      " |  \n",
      " |  __repr__(self, /)\n",
      " |      Return repr(self).\n",
      " |  \n",
      " |  __reversed__(self, /)\n",
      " |      Return a reverse iterator over the list.\n",
      " |  \n",
      " |  __rmul__(self, value, /)\n",
      " |      Return value*self.\n",
      " |  \n",
      " |  __setitem__(self, key, value, /)\n",
      " |      Set self[key] to value.\n",
      " |  \n",
      " |  __sizeof__(self, /)\n",
      " |      Return the size of the list in memory, in bytes.\n",
      " |  \n",
      " |  append(self, object, /)\n",
      " |      Append object to the end of the list.\n",
      " |  \n",
      " |  clear(self, /)\n",
      " |      Remove all items from list.\n",
      " |  \n",
      " |  copy(self, /)\n",
      " |      Return a shallow copy of the list.\n",
      " |  \n",
      " |  count(self, value, /)\n",
      " |      Return number of occurrences of value.\n",
      " |  \n",
      " |  extend(self, iterable, /)\n",
      " |      Extend list by appending elements from the iterable.\n",
      " |  \n",
      " |  index(self, value, start=0, stop=9223372036854775807, /)\n",
      " |      Return first index of value.\n",
      " |      \n",
      " |      Raises ValueError if the value is not present.\n",
      " |  \n",
      " |  insert(self, index, object, /)\n",
      " |      Insert object before index.\n",
      " |  \n",
      " |  pop(self, index=-1, /)\n",
      " |      Remove and return item at index (default last).\n",
      " |      \n",
      " |      Raises IndexError if list is empty or index is out of range.\n",
      " |  \n",
      " |  remove(self, value, /)\n",
      " |      Remove first occurrence of value.\n",
      " |      \n",
      " |      Raises ValueError if the value is not present.\n",
      " |  \n",
      " |  reverse(self, /)\n",
      " |      Reverse *IN PLACE*.\n",
      " |  \n",
      " |  sort(self, /, *, key=None, reverse=False)\n",
      " |      Sort the list in ascending order and return None.\n",
      " |      \n",
      " |      The sort is in-place (i.e. the list itself is modified) and stable (i.e. the\n",
      " |      order of two equal elements is maintained).\n",
      " |      \n",
      " |      If a key function is given, apply it once to each list item and sort them,\n",
      " |      ascending or descending, according to their function values.\n",
      " |      \n",
      " |      The reverse flag can be set to sort in descending order.\n",
      " |  \n",
      " |  ----------------------------------------------------------------------\n",
      " |  Class methods defined here:\n",
      " |  \n",
      " |  __class_getitem__(...) from builtins.type\n",
      " |      See PEP 585\n",
      " |  \n",
      " |  ----------------------------------------------------------------------\n",
      " |  Static methods defined here:\n",
      " |  \n",
      " |  __new__(*args, **kwargs) from builtins.type\n",
      " |      Create and return a new object.  See help(type) for accurate signature.\n",
      " |  \n",
      " |  ----------------------------------------------------------------------\n",
      " |  Data and other attributes defined here:\n",
      " |  \n",
      " |  __hash__ = None\n",
      "\n"
     ]
    }
   ],
   "source": [
    "help(list)"
   ]
  },
  {
   "cell_type": "code",
   "execution_count": 68,
   "id": "993b9bd0-f1d7-4dfc-ad20-83233d9db668",
   "metadata": {},
   "outputs": [
    {
     "data": {
      "text/plain": [
       "['apple', 'ball', 'cat', [10, 20, 30], (2, 4, 6), 3, 5, 8, 'e', 'f', 'g']"
      ]
     },
     "execution_count": 68,
     "metadata": {},
     "output_type": "execute_result"
    }
   ],
   "source": [
    "a=['apple','ball','cat']\n",
    "a\n",
    "a.append('/')\n",
    "a\n",
    "a.clear()\n",
    "a\n",
    "a=['apple','ball','cat']\n",
    "a\n",
    "b=[10,20,30]\n",
    "c=(2,4,6)\n",
    "\n",
    "a.append(b)\n",
    "a\n",
    "a.append(c)\n",
    "a\n",
    "d=(3,5,8)\n",
    "a.extend(d)\n",
    "a\n",
    "f=('e','f','g')\n",
    "a.extend(f)\n",
    "a"
   ]
  },
  {
   "cell_type": "code",
   "execution_count": 75,
   "id": "c7288862-401b-4c74-a58c-8b8cbb804409",
   "metadata": {},
   "outputs": [
    {
     "name": "stdout",
     "output_type": "stream",
     "text": [
      "cat - [10, 20, 30]\n"
     ]
    }
   ],
   "source": [
    "print(a[2],'-',a[3])"
   ]
  },
  {
   "cell_type": "code",
   "execution_count": 88,
   "id": "be92195c-7c10-4e4b-99a6-40659f737a4a",
   "metadata": {},
   "outputs": [
    {
     "name": "stdout",
     "output_type": "stream",
     "text": [
      "3\n"
     ]
    }
   ],
   "source": [
    "print (a.index([10,20,30]))"
   ]
  },
  {
   "cell_type": "code",
   "execution_count": 90,
   "id": "2de22930-bb8d-40a7-a999-cd8b95056d83",
   "metadata": {},
   "outputs": [],
   "source": [
    "a.append(22)"
   ]
  },
  {
   "cell_type": "code",
   "execution_count": 91,
   "id": "30c97cb3-9bd9-41f9-bb22-1f494f95e823",
   "metadata": {},
   "outputs": [
    {
     "data": {
      "text/plain": [
       "['apple', 'ball', 'cat', [10, 20, 30], (2, 4, 6), 3, 5, 8, 'e', 'f', 'g', 22]"
      ]
     },
     "execution_count": 91,
     "metadata": {},
     "output_type": "execute_result"
    }
   ],
   "source": [
    "a"
   ]
  },
  {
   "cell_type": "code",
   "execution_count": 92,
   "id": "2bec4207-9636-41a8-b5d9-2786fde659f7",
   "metadata": {},
   "outputs": [
    {
     "data": {
      "text/plain": [
       "['apple',\n",
       " 'ball',\n",
       " 33,\n",
       " 'cat',\n",
       " [10, 20, 30],\n",
       " (2, 4, 6),\n",
       " 3,\n",
       " 5,\n",
       " 8,\n",
       " 'e',\n",
       " 'f',\n",
       " 'g',\n",
       " 22]"
      ]
     },
     "execution_count": 92,
     "metadata": {},
     "output_type": "execute_result"
    }
   ],
   "source": [
    "a.insert(2,33)\n",
    "a"
   ]
  },
  {
   "cell_type": "code",
   "execution_count": 93,
   "id": "79727674-9b36-4e35-972b-573512180f57",
   "metadata": {},
   "outputs": [
    {
     "name": "stdout",
     "output_type": "stream",
     "text": [
      "['apple', 'ball', 33, 'cat', [10, 20, 30], (2, 4, 6), 3, 5, 8, 'e', 'f', 'g', 22]\n"
     ]
    }
   ],
   "source": [
    "print(a)"
   ]
  },
  {
   "cell_type": "code",
   "execution_count": 94,
   "id": "357d4ac0-901a-477a-a623-fe9020243a82",
   "metadata": {},
   "outputs": [
    {
     "data": {
      "text/plain": [
       "['apple', 'ball', 33, 'cat', [10, 20, 30], (2, 4, 6), 3, 5, 8, 'e', 'f', 'g']"
      ]
     },
     "execution_count": 94,
     "metadata": {},
     "output_type": "execute_result"
    }
   ],
   "source": [
    "a.pop()\n",
    "a"
   ]
  },
  {
   "cell_type": "code",
   "execution_count": 95,
   "id": "39bf4457-a1b9-41cc-bbab-47bc08e6b4b6",
   "metadata": {},
   "outputs": [
    {
     "data": {
      "text/plain": [
       "['apple', 'ball', 'cat', [10, 20, 30], (2, 4, 6), 3, 5, 8, 'e', 'f', 'g']"
      ]
     },
     "execution_count": 95,
     "metadata": {},
     "output_type": "execute_result"
    }
   ],
   "source": [
    "a.pop(2)\n",
    "a"
   ]
  },
  {
   "cell_type": "code",
   "execution_count": 96,
   "id": "669f89f8-bb0e-48cd-8ac3-6764969c4ecc",
   "metadata": {},
   "outputs": [
    {
     "data": {
      "text/plain": [
       "['apple', 'ball', 'cat', [10, 20, 30], (2, 4, 6), 3, 5, 8, 'f', 'g']"
      ]
     },
     "execution_count": 96,
     "metadata": {},
     "output_type": "execute_result"
    }
   ],
   "source": [
    "a.pop(8)\n",
    "a"
   ]
  },
  {
   "cell_type": "code",
   "execution_count": 97,
   "id": "e76a6398-a872-4191-aec2-bc1593182819",
   "metadata": {},
   "outputs": [],
   "source": [
    "a.reverse()"
   ]
  },
  {
   "cell_type": "code",
   "execution_count": 98,
   "id": "a4d76279-e7cf-4187-bd61-1ce0ba3f10bd",
   "metadata": {},
   "outputs": [
    {
     "data": {
      "text/plain": [
       "['g', 'f', 8, 5, 3, (2, 4, 6), [10, 20, 30], 'cat', 'ball', 'apple']"
      ]
     },
     "execution_count": 98,
     "metadata": {},
     "output_type": "execute_result"
    }
   ],
   "source": [
    "a"
   ]
  },
  {
   "cell_type": "code",
   "execution_count": 99,
   "id": "e44dfe2a-2fda-4995-8779-d3f4fbaccc58",
   "metadata": {},
   "outputs": [
    {
     "data": {
      "text/plain": [
       "['g', 8, 5, 3, (2, 4, 6), [10, 20, 30], 'cat', 'ball', 'apple']"
      ]
     },
     "execution_count": 99,
     "metadata": {},
     "output_type": "execute_result"
    }
   ],
   "source": [
    "a.remove('f')\n",
    "a"
   ]
  },
  {
   "cell_type": "code",
   "execution_count": 105,
   "id": "80a588ba-9d1f-491e-9921-65658e2d7d46",
   "metadata": {},
   "outputs": [
    {
     "name": "stdout",
     "output_type": "stream",
     "text": [
      "[500, 11, 359, 468684, 21654, 214, 455]\n"
     ]
    }
   ],
   "source": [
    "f=[500,11,359,468684,21654,214,455]\n",
    "print(f)"
   ]
  },
  {
   "cell_type": "code",
   "execution_count": 106,
   "id": "64aac4fa-13f9-48ef-96f7-50e9a952984d",
   "metadata": {},
   "outputs": [],
   "source": [
    "f.sort()"
   ]
  },
  {
   "cell_type": "code",
   "execution_count": 108,
   "id": "9e9a5b32-0ed1-4a99-a6dc-7d0ee34eec03",
   "metadata": {},
   "outputs": [
    {
     "data": {
      "text/plain": [
       "[11, 214, 359, 455, 500, 21654, 468684]"
      ]
     },
     "execution_count": 108,
     "metadata": {},
     "output_type": "execute_result"
    }
   ],
   "source": [
    "f"
   ]
  },
  {
   "cell_type": "code",
   "execution_count": 110,
   "id": "82fe30fd-e7a0-4280-a9b6-0a1c472a1de2",
   "metadata": {},
   "outputs": [
    {
     "data": {
      "text/plain": [
       "[468684, 21654, 500, 455, 359, 214, 11]"
      ]
     },
     "execution_count": 110,
     "metadata": {},
     "output_type": "execute_result"
    }
   ],
   "source": [
    "f.sort(reverse=True)\n",
    "f"
   ]
  },
  {
   "cell_type": "code",
   "execution_count": 124,
   "id": "92b49270-2c9e-405f-a06f-96efef40146e",
   "metadata": {},
   "outputs": [
    {
     "data": {
      "text/plain": [
       "[45, 54871, 784]"
      ]
     },
     "execution_count": 124,
     "metadata": {},
     "output_type": "execute_result"
    }
   ],
   "source": [
    "import datetime\n",
    "\n",
    "class Person(object):\n",
    "    def __init__(self, name, class_roll, height):\n",
    "        self.name = name\n",
    "        self.class_roll = class_roll\n",
    "        self.height = height\n",
    "        \n",
    "    def __repr__(self):\n",
    "        return str(self.height)\n",
    "    \n",
    "person_list = [Person(\"Mejbah\", 342, 45),\n",
    "              Person(\"1eblim\", 56321, 784),\n",
    "              Person(\"Selman\", 5364, 54871)]\n",
    "\n",
    "person_list.sort(key = lambda item : item.name)\n",
    "person_list\n",
    "\n"
   ]
  },
  {
   "cell_type": "code",
   "execution_count": 125,
   "id": "a78e1126-89f7-4285-940a-52660d49c638",
   "metadata": {},
   "outputs": [
    {
     "data": {
      "text/plain": [
       "[45, 54871, 784]"
      ]
     },
     "execution_count": 125,
     "metadata": {},
     "output_type": "execute_result"
    }
   ],
   "source": [
    "person_list.sort(key = lambda item : item.class_roll)\n",
    "person_list"
   ]
  },
  {
   "cell_type": "code",
   "execution_count": 126,
   "id": "265fbb0a-a530-419f-88a8-c65fdbdf29b4",
   "metadata": {},
   "outputs": [
    {
     "data": {
      "text/plain": [
       "[45, 784, 54871]"
      ]
     },
     "execution_count": 126,
     "metadata": {},
     "output_type": "execute_result"
    }
   ],
   "source": [
    "person_list.sort(key = lambda item : item.height)\n",
    "person_list"
   ]
  },
  {
   "cell_type": "code",
   "execution_count": 141,
   "id": "2fe5bf73-2f87-4214-8798-f29b922a306a",
   "metadata": {},
   "outputs": [],
   "source": [
    "class OddNum:\n",
    "\n",
    "    def _init_(self,num=0):\n",
    "        self.num=num\n",
    "    \n",
    "    def _iter_(self):\n",
    "        self.x=2\n",
    "        return self\n",
    "    \n",
    "    def _next_(self):\n",
    "        if self.x<=self.num:\n",
    "            odd_Num=self.x\n",
    "            self.x +=1\n",
    "            return odd_Num\n",
    "        else:\n",
    "            raise issueoccured\n",
    "     \n",
    " \n"
   ]
  },
  {
   "cell_type": "code",
   "execution_count": 142,
   "id": "74b79b9d-c929-42f2-bd5b-0b3b699cd9c5",
   "metadata": {},
   "outputs": [
    {
     "ename": "TypeError",
     "evalue": "OddNum() takes no arguments",
     "output_type": "error",
     "traceback": [
      "\u001b[1;31m---------------------------------------------------------------------------\u001b[0m",
      "\u001b[1;31mTypeError\u001b[0m                                 Traceback (most recent call last)",
      "\u001b[1;32m<ipython-input-142-b0d83824af2c>\u001b[0m in \u001b[0;36m<module>\u001b[1;34m\u001b[0m\n\u001b[1;32m----> 1\u001b[1;33m \u001b[1;32mfor\u001b[0m \u001b[0mnum\u001b[0m \u001b[1;32min\u001b[0m \u001b[0mOddNum\u001b[0m\u001b[1;33m(\u001b[0m\u001b[1;36m10\u001b[0m\u001b[1;33m)\u001b[0m\u001b[1;33m:\u001b[0m\u001b[1;33m\u001b[0m\u001b[1;33m\u001b[0m\u001b[0m\n\u001b[0m\u001b[0;32m      2\u001b[0m     \u001b[0mprint\u001b[0m\u001b[1;33m(\u001b[0m\u001b[0mnum\u001b[0m\u001b[1;33m)\u001b[0m\u001b[1;33m\u001b[0m\u001b[1;33m\u001b[0m\u001b[0m\n",
      "\u001b[1;31mTypeError\u001b[0m: OddNum() takes no arguments"
     ]
    }
   ],
   "source": [
    "for num in OddNum(10):\n",
    "    print(num)"
   ]
  },
  {
   "cell_type": "code",
   "execution_count": null,
   "id": "600f82e1-cc15-48cc-8ad7-65a190755539",
   "metadata": {},
   "outputs": [],
   "source": []
  }
 ],
 "metadata": {
  "kernelspec": {
   "display_name": "Python 3",
   "language": "python",
   "name": "python3"
  },
  "language_info": {
   "codemirror_mode": {
    "name": "ipython",
    "version": 3
   },
   "file_extension": ".py",
   "mimetype": "text/x-python",
   "name": "python",
   "nbconvert_exporter": "python",
   "pygments_lexer": "ipython3",
   "version": "3.9.6"
  }
 },
 "nbformat": 4,
 "nbformat_minor": 5
}
